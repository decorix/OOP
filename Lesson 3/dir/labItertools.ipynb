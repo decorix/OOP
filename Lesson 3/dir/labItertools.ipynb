{
 "cells": [
  {
   "cell_type": "code",
   "execution_count": null,
   "metadata": {},
   "outputs": [],
   "source": [
    "import itertools\n"
   ]
  },
  {
   "cell_type": "code",
   "execution_count": null,
   "metadata": {},
   "outputs": [],
   "source": [
    "# Генерация различных комбинаций\n",
    "mas = [1, 2, 3, 4, 5]\n",
    "for i in itertools.combinations(mas, 2):\n",
    "    print(i)\n",
    "    "
   ]
  },
  {
   "cell_type": "code",
   "execution_count": null,
   "metadata": {},
   "outputs": [],
   "source": [
    "# Генерация все возможных перестановок массива\n",
    "mas = [1, 2, 3]\n",
    "for i in itertools.permutations(mas):\n",
    "    print(i)\n"
   ]
  },
  {
   "cell_type": "code",
   "execution_count": null,
   "metadata": {},
   "outputs": [],
   "source": [
    "# Генерация всех возможных перестановок из нескольких массивов\n",
    "mas1 = [1, 2, 3]\n",
    "mas2 = [4, 5, 6]\n",
    "for i in itertools.product(mas1, mas2):\n",
    "    print(i)"
   ]
  },
  {
   "cell_type": "code",
   "execution_count": null,
   "metadata": {},
   "outputs": [],
   "source": [
    "# Генерация последовательности арифметической прогрессии до 100\n",
    "for i in itertools.count(10, 7):\n",
    "    if i > 100:\n",
    "        break \n",
    "    print(i)  "
   ]
  },
  {
   "cell_type": "code",
   "execution_count": null,
   "metadata": {},
   "outputs": [],
   "source": [
    "# Генерация всех подмножеств заданного множества\n",
    "mas = [30, 42, 57]\n",
    "for i in range(len(mas) + 1):\n",
    "    for j in itertools.combinations(mas, i):\n",
    "        print(j)"
   ]
  },
  {
   "cell_type": "code",
   "execution_count": null,
   "metadata": {},
   "outputs": [],
   "source": [
    "# Группировка элементов массива по четности     \n",
    "mas = [1, 2, 3, 4, 5]\n",
    "output = dict()\n",
    "\n",
    "for key, group in itertools.groupby(mas, key=lambda x: x % 2 == 0):\n",
    "   output[key] = output.get(key, list()) + list(group)\n",
    "\n",
    "for key, value in output.items():\n",
    "   print(key, value)"
   ]
  },
  {
   "cell_type": "code",
   "execution_count": null,
   "metadata": {},
   "outputs": [],
   "source": [
    "# Выборка элементов из списка при помощи compress\n",
    "names = ['Андрей', 'Дима', 'Иван', 'Илья']\n",
    "booleans = [True, False, True, False]\n",
    "\n",
    "output = list(itertools.compress(names, booleans))\n",
    "print(output)"
   ]
  },
  {
   "cell_type": "code",
   "execution_count": null,
   "metadata": {},
   "outputs": [],
   "source": [
    "# Объединение трех списков в один\n",
    "mas1 = [1, 2, 3]\n",
    "mas2 = [4, 5, 6]\n",
    "mas3 = [7, 8, 9]\n",
    "\n",
    "output = list(itertools.chain(mas1, mas2, mas3))\n",
    "print(output) "
   ]
  },
  {
   "cell_type": "code",
   "execution_count": null,
   "metadata": {},
   "outputs": [],
   "source": [
    "# Генерация бесконечной последовательности элементов массива\n",
    "mas = [126, 342, 673]\n",
    "for i in itertools.cycle(mas):\n",
    "    print(i)"
   ]
  },
  {
   "cell_type": "code",
   "execution_count": null,
   "metadata": {},
   "outputs": [],
   "source": [
    "# Генерация всех возможных комбинаций с разным количеством элементов из нескольких списков\n",
    "mas1 = [41, 52]\n",
    "mas2 = [85, 36, 74]\n",
    "mas3 = [56, 27]\n",
    "\n",
    "for i in range(1, 4):\n",
    "    for j in itertools.product(mas1, mas2, mas3, repeat=i):\n",
    "        print(j)"
   ]
  }
 ],
 "metadata": {
  "language_info": {
   "name": "python"
  }
 },
 "nbformat": 4,
 "nbformat_minor": 2
}
