{
 "cells": [
  {
   "cell_type": "code",
   "execution_count": 1,
   "metadata": {},
   "outputs": [],
   "source": [
    "import shutil"
   ]
  },
  {
   "cell_type": "code",
   "execution_count": 3,
   "metadata": {},
   "outputs": [
    {
     "data": {
      "text/plain": [
       "'..\\\\LabColor16.ipynb'"
      ]
     },
     "execution_count": 3,
     "metadata": {},
     "output_type": "execute_result"
    }
   ],
   "source": [
    "# Копирование файла из одного места в другое\n",
    "src_path = \"..\\Lesson 4\\LabColor16.ipynb\"\n",
    "dst_path = \"..\\\\\"\n",
    "\n",
    "shutil.copy(src_path, dst_path)"
   ]
  },
  {
   "cell_type": "code",
   "execution_count": null,
   "metadata": {},
   "outputs": [],
   "source": [
    "# Копирование директории со всем содержимым:\n",
    "src_path = \"..\\Lesson 4\"\n",
    "dst_path = \"..\\Lesson 3\\dir\"\n",
    "\n",
    "shutil.copytree(src_path, dst_path)"
   ]
  },
  {
   "cell_type": "code",
   "execution_count": null,
   "metadata": {},
   "outputs": [],
   "source": [
    "# Перемещение файла из одного места в другое\n",
    "src_path = \"..\\lesson_8\\labClassSpecAttr.ipynb\"\n",
    "dst_path = \"..\\\\\"\n",
    "\n",
    "shutil.move(src_path, dst_path)"
   ]
  },
  {
   "cell_type": "code",
   "execution_count": null,
   "metadata": {},
   "outputs": [],
   "source": [
    "# Создание архива из директории:\n",
    "src_path = \"..\\lesson_2\"\n",
    "dst_path = \"..\\lesson2\"\n",
    "\n",
    "shutil.make_archive(dst_path, 'zip', src_path)"
   ]
  },
  {
   "cell_type": "code",
   "execution_count": null,
   "metadata": {},
   "outputs": [],
   "source": [
    "# Распаковка архива\n",
    "src_path = \"..\\lesson2.zip\"\n",
    "dst_path = \"..\\lesson_2_zip\"\n",
    "\n",
    "shutil.unpack_archive(src_path, dst_path)"
   ]
  }
 ],
 "metadata": {
  "kernelspec": {
   "display_name": "Python 3",
   "language": "python",
   "name": "python3"
  },
  "language_info": {
   "codemirror_mode": {
    "name": "ipython",
    "version": 3
   },
   "file_extension": ".py",
   "mimetype": "text/x-python",
   "name": "python",
   "nbconvert_exporter": "python",
   "pygments_lexer": "ipython3",
   "version": "3.9.13"
  }
 },
 "nbformat": 4,
 "nbformat_minor": 2
}
