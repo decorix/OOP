{
 "cells": [
  {
   "cell_type": "code",
   "execution_count": 1,
   "metadata": {},
   "outputs": [],
   "source": [
    "def domino(type=\"Дубль-6\", value=(0, 1, 2, 3, 4, 5, 6)) -> list:\n",
    "    '''Функция возвращает  стопку домино в виде списка кортежей'''\n",
    "    number = int(type.lower().removeprefix(\"дубль-\"))\n",
    "    all_dominoes = []\n",
    "\n",
    "    if (len(value) != number + 1):\n",
    "        value = tuple([i for i in range(number + 1)])\n",
    "    \n",
    "    for i in range(len(value)):\n",
    "        for j in range(i, len(value)):\n",
    "            domino_value = (value[i], value[j])\n",
    "            all_dominoes.append(domino_value)\n",
    "    \n",
    "    return all_dominoes\n"
   ]
  },
  {
   "cell_type": "code",
   "execution_count": 2,
   "metadata": {},
   "outputs": [
    {
     "name": "stdout",
     "output_type": "stream",
     "text": [
      "[(0, 0), (0, 1), (0, 2), (0, 3), (0, 4), (0, 5), (0, 6), (1, 1), (1, 2), (1, 3), (1, 4), (1, 5), (1, 6), (2, 2), (2, 3), (2, 4), (2, 5), (2, 6), (3, 3), (3, 4), (3, 5), (3, 6), (4, 4), (4, 5), (4, 6), (5, 5), (5, 6), (6, 6)]\n",
      "[(0, 0), (0, 1), (0, 2), (0, 3), (0, 4), (0, 5), (0, 6), (0, 7), (0, 8), (0, 9), (1, 1), (1, 2), (1, 3), (1, 4), (1, 5), (1, 6), (1, 7), (1, 8), (1, 9), (2, 2), (2, 3), (2, 4), (2, 5), (2, 6), (2, 7), (2, 8), (2, 9), (3, 3), (3, 4), (3, 5), (3, 6), (3, 7), (3, 8), (3, 9), (4, 4), (4, 5), (4, 6), (4, 7), (4, 8), (4, 9), (5, 5), (5, 6), (5, 7), (5, 8), (5, 9), (6, 6), (6, 7), (6, 8), (6, 9), (7, 7), (7, 8), (7, 9), (8, 8), (8, 9), (9, 9)]\n",
      "[(2, 2), (2, 3), (2, 4), (2, 7), (2, 8), (2, 60), (2, 43), (3, 3), (3, 4), (3, 7), (3, 8), (3, 60), (3, 43), (4, 4), (4, 7), (4, 8), (4, 60), (4, 43), (7, 7), (7, 8), (7, 60), (7, 43), (8, 8), (8, 60), (8, 43), (60, 60), (60, 43), (43, 43)]\n"
     ]
    }
   ],
   "source": [
    "print(domino())\n",
    "print(domino(\"Дубль-9\"))\n",
    "print(domino(value=(2, 3, 4, 7, 8, 60, 43)))"
   ]
  }
 ],
 "metadata": {
  "kernelspec": {
   "display_name": "Python 3",
   "language": "python",
   "name": "python3"
  },
  "language_info": {
   "codemirror_mode": {
    "name": "ipython",
    "version": 3
   },
   "file_extension": ".py",
   "mimetype": "text/x-python",
   "name": "python",
   "nbconvert_exporter": "python",
   "pygments_lexer": "ipython3",
   "version": "3.9.13"
  }
 },
 "nbformat": 4,
 "nbformat_minor": 2
}
