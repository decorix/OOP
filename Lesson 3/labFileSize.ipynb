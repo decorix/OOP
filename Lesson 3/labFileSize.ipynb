{
 "cells": [
  {
   "cell_type": "code",
   "execution_count": 1,
   "metadata": {},
   "outputs": [],
   "source": [
    "from prettytable import PrettyTable"
   ]
  },
  {
   "cell_type": "code",
   "execution_count": 2,
   "metadata": {},
   "outputs": [],
   "source": [
    "units_measurement = ('B','KB','MB','GB','TB','PB')\n",
    "def pretty_size(size_bytes: int) -> str:\n",
    "    '''Функция для автоматической конвертации байтов в КБ, МБ, ГБ...'''\n",
    "    count = 0\n",
    "    \n",
    "    while size_bytes // 1024 != 0:\n",
    "        if count == 5:\n",
    "            break\n",
    "        size_bytes /= 1024\n",
    "        count += 1\n",
    "\n",
    "    return str(round(size_bytes, 2)) + ' ' + units_measurement[count]"
   ]
  },
  {
   "cell_type": "code",
   "execution_count": 3,
   "metadata": {},
   "outputs": [
    {
     "name": "stdout",
     "output_type": "stream",
     "text": [
      "+-------------------+---------------------------+------------------+\n",
      "|     file name     |            size           |     on disk      |\n",
      "+-------------------+---------------------------+------------------+\n",
      "| DumpStack.log.tmp |            8192           |      8.0 KB      |\n",
      "|    hyberfil.sys   |        13609422848        |     12.67 GB     |\n",
      "|    pagefil.sys    |        45584035840        |     42.45 GB     |\n",
      "|    swapfil.sys    |          16777216         |     16.0 MB      |\n",
      "|    hyberfil.sys   | 1360942284800000000000000 | 1208759567.82 PB |\n",
      "|     global.sys    |            167            |      167 B       |\n",
      "+-------------------+---------------------------+------------------+\n"
     ]
    }
   ],
   "source": [
    "mytable = PrettyTable([\"file name\", \"size\", \"on disk\"])\n",
    "mytable.add_row([\"DumpStack.log.tmp\", 8192, pretty_size(8192)])\n",
    "mytable.add_row([\"hyberfil.sys\", 13609422848, pretty_size(13609422848)])\n",
    "mytable.add_row([\"pagefil.sys\", 45584035840, pretty_size(45584035840)])\n",
    "mytable.add_row([\"swapfil.sys\", 16777216, pretty_size(16777216)])\n",
    "mytable.add_row([\"hyberfil.sys\", 1360942284800000000000000, pretty_size(1360942284800000000000000)])\n",
    "mytable.add_row([\"global.sys\", 167, pretty_size(167)])\n",
    "print(mytable)"
   ]
  }
 ],
 "metadata": {
  "kernelspec": {
   "display_name": "Python 3",
   "language": "python",
   "name": "python3"
  },
  "language_info": {
   "codemirror_mode": {
    "name": "ipython",
    "version": 3
   },
   "file_extension": ".py",
   "mimetype": "text/x-python",
   "name": "python",
   "nbconvert_exporter": "python",
   "pygments_lexer": "ipython3",
   "version": "3.9.7"
  }
 },
 "nbformat": 4,
 "nbformat_minor": 2
}
