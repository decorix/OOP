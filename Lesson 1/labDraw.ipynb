{
 "cells": [
  {
   "cell_type": "code",
   "execution_count": 1,
   "metadata": {},
   "outputs": [],
   "source": [
    "draw = input('Какую фигуру вы хотите нарисовать?: ')\n",
    "w = int(input('Ширина фигуры: '))\n",
    "h = int(input('Высота фигуры: '))"
   ]
  },
  {
   "cell_type": "code",
   "execution_count": 2,
   "metadata": {},
   "outputs": [],
   "source": [
    "def drawing(draw, w, h):\n",
    "    if (draw=='Прямоугольник'):\n",
    "        for i in range(h):\n",
    "            print()\n",
    "            for j in range(w):\n",
    "                if (i==0 or i==h-1):\n",
    "                    print('■', end='')\n",
    "                elif (j==0 or j==w-1):\n",
    "                    print('▓', end='')\n",
    "                else:\n",
    "                    print(' ', end='')\n",
    "    elif (draw=='Змейка'):\n",
    "        checkR=False\n",
    "        checkL=False\n",
    "        for i in range(h):\n",
    "            print()\n",
    "            for j in range(w):\n",
    "                if (i%2==0):\n",
    "                    print('■', end='')\n",
    "                    if (checkL):\n",
    "                        checkR=False\n",
    "                elif (i%2!=0 and j==w-1 and not checkR):\n",
    "                    print('▓', end='')\n",
    "                    checkR=True\n",
    "                    checkL=False \n",
    "                elif (i%2!=0 and j==0 and not checkL and checkR):\n",
    "                    print('▓', end='')\n",
    "                    checkL=True    \n",
    "                else:\n",
    "                    print(' ', end='')\n",
    "    elif (draw=='Песочные часы'):\n",
    "        for i in range(h):\n",
    "            print()\n",
    "            for j in range(w):\n",
    "                print(\"*\", end='')\n"
   ]
  },
  {
   "cell_type": "code",
   "execution_count": 3,
   "metadata": {},
   "outputs": [
    {
     "name": "stdout",
     "output_type": "stream",
     "text": [
      "\n",
      "■■■■■■\n",
      "     ▓\n",
      "■■■■■■\n",
      "▓     \n",
      "■■■■■■\n",
      "     ▓\n",
      "■■■■■■\n",
      "▓     \n",
      "■■■■■■\n",
      "     ▓\n",
      "■■■■■■\n",
      "▓     \n",
      "■■■■■■"
     ]
    }
   ],
   "source": [
    "drawing(draw, w, h)\n"
   ]
  },
  {
   "cell_type": "code",
   "execution_count": null,
   "metadata": {},
   "outputs": [],
   "source": []
  },
  {
   "cell_type": "code",
   "execution_count": null,
   "metadata": {},
   "outputs": [],
   "source": []
  }
 ],
 "metadata": {
  "kernelspec": {
   "display_name": "Python 3",
   "language": "python",
   "name": "python3"
  },
  "language_info": {
   "codemirror_mode": {
    "name": "ipython",
    "version": 3
   },
   "file_extension": ".py",
   "mimetype": "text/x-python",
   "name": "python",
   "nbconvert_exporter": "python",
   "pygments_lexer": "ipython3",
   "version": "3.9.13"
  }
 },
 "nbformat": 4,
 "nbformat_minor": 2
}
