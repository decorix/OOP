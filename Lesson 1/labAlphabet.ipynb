{
 "cells": [
  {
   "cell_type": "code",
   "execution_count": 2,
   "metadata": {},
   "outputs": [],
   "source": [
    "import random"
   ]
  },
  {
   "cell_type": "code",
   "execution_count": 3,
   "metadata": {},
   "outputs": [],
   "source": [
    "alphabetRu = [\"а\",\"б\",\"в\",\"г\",\"д\",\"е\",\"ё\",\"ж\",\"з\",\"и\",\"й\",\"к\",\"л\",\"м\",\"н\",\"о\",\n",
    "            \"п\",\"р\",\"с\",\"т\",\"у\",\"ф\",\"х\",\"ц\",\"ч\",\"ш\",\"щ\",\"ъ\",\"ы\",\"ь\",\"э\",\"ю\",\"я\"]\n",
    "alphabetEn = ['a', 'b', 'c', 'd', 'e', 'f', 'g', 'h', 'i', 'j', 'k', 'l', 'm', 'n', 'o', 'p', 'q', 'r', 's', 't', 'u', 'v', 'w', 'x', 'y', 'z']"
   ]
  },
  {
   "cell_type": "code",
   "execution_count": 4,
   "metadata": {},
   "outputs": [
    {
     "name": "stdout",
     "output_type": "stream",
     "text": [
      "Первый способ:\n",
      "а б в г д е ё ж з и й к л м н о п р с т у ф х ц ч ш щ ъ ы ь э ю я \n",
      "я ю э ь ы ъ щ ш ч ц х ф у т с р п о н м л к й и з ж ё е д г в б а \n",
      "a b c d e f g h i j k l m n o p q r s t u v w x y z \n",
      "z y x w v u t s r q p o n m l k j i h g f e d c b a \n"
     ]
    }
   ],
   "source": [
    "print('Первый способ:')\n",
    "for i in alphabetRu:\n",
    "    print(i, end=' ')\n",
    "print(end='\\n')\n",
    "for i in reversed(alphabetRu):\n",
    "    print(i, end=' ')\n",
    "print(end='\\n')\n",
    "for i in alphabetEn:\n",
    "    print(i, end=' ')\n",
    "print(end='\\n')\n",
    "for i in reversed(alphabetEn):\n",
    "    print(i, end=' ')\n",
    "print(end='\\n')"
   ]
  },
  {
   "cell_type": "code",
   "execution_count": 6,
   "metadata": {},
   "outputs": [
    {
     "name": "stdout",
     "output_type": "stream",
     "text": [
      "Второй способ:\n",
      "а б в г д е ё ж з и й к л м н о п р с т у ф х ц ч ш щ ъ ы ь э ю я\n",
      "яюэьыъщшчцхфутсрпонмлкйизжёедгвба\n",
      "a b c d e f g h i j k l m n o p q r s t u v w x y z\n",
      "z y x w v u t s r q p o n m l k j i h g f e d c b a\n"
     ]
    }
   ],
   "source": [
    "# Второй способ\n",
    "print('Второй способ:')\n",
    "strReverseRu = ' '.join(reversed(alphabetRu))\n",
    "strReverseEn = ' '.join(reversed(alphabetEn))\n",
    "print(' '.join(alphabetRu))\n",
    "print(strReverseRu)\n",
    "print(' '.join(alphabetEn))\n",
    "print(strReverseEn)\n"
   ]
  }
 ],
 "metadata": {
  "kernelspec": {
   "display_name": "Python 3",
   "language": "python",
   "name": "python3"
  },
  "language_info": {
   "codemirror_mode": {
    "name": "ipython",
    "version": 3
   },
   "file_extension": ".py",
   "mimetype": "text/x-python",
   "name": "python",
   "nbconvert_exporter": "python",
   "pygments_lexer": "ipython3",
   "version": "3.9.7"
  }
 },
 "nbformat": 4,
 "nbformat_minor": 2
}
