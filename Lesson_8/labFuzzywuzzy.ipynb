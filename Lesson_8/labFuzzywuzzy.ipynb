{
 "cells": [
  {
   "cell_type": "code",
   "execution_count": 2,
   "metadata": {},
   "outputs": [
    {
     "name": "stderr",
     "output_type": "stream",
     "text": [
      "c:\\Users\\User\\AppData\\Local\\Programs\\Python\\Python39\\lib\\site-packages\\fuzzywuzzy\\fuzz.py:11: UserWarning: Using slow pure-python SequenceMatcher. Install python-Levenshtein to remove this warning\n",
      "  warnings.warn('Using slow pure-python SequenceMatcher. Install python-Levenshtein to remove this warning')\n"
     ]
    }
   ],
   "source": [
    "from fuzzywuzzy import fuzz, process\n",
    "import json\n",
    "import csv\n",
    "file_cities_csv = \"C:\\\\Users\\\\User\\\\Desktop\\\\4sem\\\\OOP\\\\Lesson_5\\\\spisok_gorodov.csv\"\n",
    "file_mosmetro_json = \"C:\\\\Users\\\\User\\\\Desktop\\\\4sem\\\\OOP\\\\Lesson_6\\\\mosmetro.json\""
   ]
  },
  {
   "cell_type": "code",
   "execution_count": 3,
   "metadata": {},
   "outputs": [
    {
     "name": "stdout",
     "output_type": "stream",
     "text": [
      "Адыгейск - 45 %\n",
      "Майкоп - 45 %\n",
      "Горно-Алтайск - 45 %\n",
      "Алейск - 45 %\n",
      "Барнаул - 45 %\n",
      "Белокуриха - 60 %\n",
      "Бийск - 45 %\n",
      "Горняк - 0 %\n",
      "Заринск - 45 %\n",
      "Змеиногорск - 0 %\n"
     ]
    }
   ],
   "source": [
    "# Из файла `cities.csv` найти города по нечёткому сравнению и показать ТОП-10\n",
    "search_text = \"Аб\"\n",
    "count = 0\n",
    "\n",
    "with open(file_cities_csv, \"r\", encoding='UTF-8') as f:\n",
    "    reader = csv.DictReader(f, delimiter=';')\n",
    "    for line in reader:\n",
    "        print(f\"{line['Город']} - {fuzz.WRatio(search_text, line['Город'])} %\")\n",
    "\n",
    "        count += 1\n",
    "\n",
    "        if (count == 10):\n",
    "            break"
   ]
  },
  {
   "cell_type": "code",
   "execution_count": 5,
   "metadata": {},
   "outputs": [
    {
     "name": "stdout",
     "output_type": "stream",
     "text": [
      "Бауманская - 90%\n",
      "Калужская - 60%\n",
      "Бульвар адмирала Ушакова - 60%\n",
      "Преображенская площадь - 60%\n",
      "Арбатская - 60%\n",
      "Трубная - 60%\n",
      "Бульвар Дмитрия Донского - 60%\n",
      "Цветной бульвар - 60%\n",
      "Братиславская - 60%\n",
      "Славянский бульвар - 60%\n"
     ]
    }
   ],
   "source": [
    "# Из файла `mosmetro.json` найти станции по нечёткому сравнению и показать ТОП-10\n",
    "search_text = \"Бау\"\n",
    "count = 0\n",
    "top = dict()\n",
    "\n",
    "with open(file_mosmetro_json, \"r\", encoding='UTF-8') as f:\n",
    "    d = json.load(f)\n",
    "\n",
    "for station in d:\n",
    "    top[station['Station']] = fuzz.WRatio(search_text, station['Station'])\n",
    "\n",
    "for i in sorted(top.items(), key=lambda para: para[1], reverse=True):\n",
    "    print(f\"{i[0]} - {i[1]}%\")\n",
    "\n",
    "    count += 1\n",
    "\n",
    "    if (count == 10):\n",
    "        break"
   ]
  },
  {
   "cell_type": "code",
   "execution_count": 4,
   "metadata": {},
   "outputs": [
    {
     "name": "stdout",
     "output_type": "stream",
     "text": [
      "Ведьмак 3: Дикая охота\n",
      "Совпадение не найдено\n"
     ]
    }
   ],
   "source": [
    "# Автокоррекция ввода пользователя\n",
    "def suggest_correction(user_input, valid_options):\n",
    "    best_match = process.extractOne(user_input, valid_options)\n",
    "    if best_match[1] >= 80:\n",
    "        return best_match[0]\n",
    "    else:\n",
    "        return \"Совпадение не найдено\"\n",
    "    \n",
    "data = [\"CS2\", \"GTA5\", \"Ведьмак 3: Дикая охота\", \"Fallout 4\", \"Dota2\"]   \n",
    "print(suggest_correction(\"Ведьмак\", data))\n",
    "print(suggest_correction(\"Final Fantasy\", data))"
   ]
  },
  {
   "cell_type": "code",
   "execution_count": 7,
   "metadata": {},
   "outputs": [
    {
     "name": "stdout",
     "output_type": "stream",
     "text": [
      "['Overwatch 2', 'Diablo IV', 'Ведьмак 3: Дикая охота', 'Fallout 4', 'Atomic Heart']\n"
     ]
    }
   ],
   "source": [
    "# Удаления дубликатов из списка\n",
    "def remove_duplicates(data):\n",
    "    unique_data = []\n",
    "    for item in data:\n",
    "        is_duplicate = False\n",
    "        \n",
    "        for unique_item in unique_data:\n",
    "            if fuzz.ratio(item, unique_item) >= 80:\n",
    "                is_duplicate = True\n",
    "                break\n",
    "\n",
    "        if not is_duplicate:\n",
    "            unique_data.append(item)\n",
    "\n",
    "    return unique_data\n",
    "\n",
    "data = [\"CS2\", \"GTA5\", \"Ведьмак 3: Дикая охота\", \"Fallout 4\", \"Dota2\", \"CS2\"]\n",
    "print(remove_duplicates(data))"
   ]
  },
  {
   "cell_type": "code",
   "execution_count": null,
   "metadata": {},
   "outputs": [],
   "source": []
  }
 ],
 "metadata": {
  "kernelspec": {
   "display_name": "Python 3",
   "language": "python",
   "name": "python3"
  },
  "language_info": {
   "codemirror_mode": {
    "name": "ipython",
    "version": 3
   },
   "file_extension": ".py",
   "mimetype": "text/x-python",
   "name": "python",
   "nbconvert_exporter": "python",
   "pygments_lexer": "ipython3",
   "version": "3.9.7"
  }
 },
 "nbformat": 4,
 "nbformat_minor": 2
}
