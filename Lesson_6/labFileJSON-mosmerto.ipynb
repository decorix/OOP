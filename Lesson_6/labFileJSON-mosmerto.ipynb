{
 "cells": [
  {
   "cell_type": "code",
   "execution_count": 1,
   "metadata": {},
   "outputs": [],
   "source": [
    "import json"
   ]
  },
  {
   "cell_type": "code",
   "execution_count": 2,
   "metadata": {},
   "outputs": [],
   "source": [
    "with open(\"C:\\\\Users\\\\User\\\\Desktop\\\\4sem\\\\OOP\\\\Lesson_6\\\\mosmetro.json\", \"r\", encoding='UTF-8') as f:\n",
    "    d = json.load(f)"
   ]
  },
  {
   "cell_type": "code",
   "execution_count": 3,
   "metadata": {},
   "outputs": [
    {
     "name": "stdout",
     "output_type": "stream",
     "text": [
      "действует\n",
      "временно закрыт\n",
      "строится\n"
     ]
    }
   ],
   "source": [
    "# вывести в консоль список статусов станций (т.е. уникальных)\n",
    "status = set()\n",
    "\n",
    "for station in d:\n",
    "    status.add(station[\"ObjectStatus\"])\n",
    "\n",
    "for i in status:\n",
    "    print(i)"
   ]
  },
  {
   "cell_type": "code",
   "execution_count": 4,
   "metadata": {},
   "outputs": [
    {
     "name": "stdout",
     "output_type": "stream",
     "text": [
      "действует: 290\n",
      "строится: 6\n",
      "временно закрыт: 5\n"
     ]
    }
   ],
   "source": [
    "# вывести в консоль список статусов станций и количеством таких станций\n",
    "status_count = dict()\n",
    "\n",
    "for station in d:\n",
    "    status_count[station[\"ObjectStatus\"]] = status_count.get(station[\"ObjectStatus\"], 0) + 1\n",
    "\n",
    "for index, value in status_count.items():\n",
    "    print(f\"{index}: {value}\")"
   ]
  },
  {
   "cell_type": "code",
   "execution_count": 5,
   "metadata": {},
   "outputs": [
    {
     "name": "stdout",
     "output_type": "stream",
     "text": [
      "Волхонка\n",
      "Дмитровское шоссе\n",
      "Дорогомиловская\n",
      "Кантемировская\n",
      "Каширская\n",
      "Коломенская\n",
      "Плющиха\n",
      "Суворовская\n",
      "Технопарк\n",
      "Третьяковская\n",
      "Царицыно\n"
     ]
    }
   ],
   "source": [
    "# вывести в консоль список станций в алфавитном порядке, где статус станции отличается от 'действует'\n",
    "stations = list()\n",
    "\n",
    "for station in d:\n",
    "    if station[\"ObjectStatus\"] != \"действует\":\n",
    "        stations.append(station[\"Station\"])\n",
    "\n",
    "for i in sorted(stations):\n",
    "    print(i)"
   ]
  },
  {
   "cell_type": "code",
   "execution_count": 6,
   "metadata": {},
   "outputs": [
    {
     "name": "stdout",
     "output_type": "stream",
     "text": [
      "Белорусская\n",
      "Киевская\n",
      "Комсомольская\n",
      "Курская\n",
      "Локомотив\n",
      "Павелецкая\n",
      "Рижская\n",
      "Савёловская\n",
      "Черкизовская\n",
      "Чкаловская\n"
     ]
    }
   ],
   "source": [
    "# вывести в консоль список станций в алфавитном порядке, которые имеют выход к железнодорожному вокзалу (см. RailwayTerminal)\n",
    "stations = set()\n",
    "\n",
    "for station in d:\n",
    "    if \"RailwayTerminal\" in station:\n",
    "        stations.add(station[\"Station\"])\n",
    "\n",
    "for i in sorted(list(stations)):\n",
    "    print(i)"
   ]
  },
  {
   "cell_type": "code",
   "execution_count": 7,
   "metadata": {},
   "outputs": [
    {
     "name": "stdout",
     "output_type": "stream",
     "text": [
      "Белорусский\n",
      "Восточный\n",
      "Киевский\n",
      "Курский\n",
      "Ленинградский\n",
      "Павелецкий\n",
      "Рижский\n",
      "Савеловский\n"
     ]
    }
   ],
   "source": [
    "# вывести в консоль список железнодорожных вокзалов в алфавитном порядке (см. RailwayTerminal)\n",
    "railway_stations = set()\n",
    "\n",
    "for station in d:\n",
    "    if \"RailwayTerminal\" in station:\n",
    "        railway_stations.add(station[\"RailwayTerminal\"][\"value\"])\n",
    "\n",
    "for i in sorted(list(railway_stations)):\n",
    "    print(i)"
   ]
  },
  {
   "cell_type": "code",
   "execution_count": 8,
   "metadata": {},
   "outputs": [
    {
     "name": "stdout",
     "output_type": "stream",
     "text": [
      "Басманный район\n",
      "Бутырский район\n",
      "Войковский район\n",
      "Красносельский район\n",
      "Мещанский район\n",
      "Нижегородский район\n",
      "Пресненский район\n",
      "Савёловский район\n",
      "Таганский район\n",
      "Тверской район\n",
      "Тимирязевский район\n",
      "район Кунцево\n",
      "район Марьина Роща\n",
      "район Митино\n",
      "район Печатники\n",
      "район Покровское-Стрешнево\n",
      "район Сокол\n",
      "район Текстильщики\n",
      "район Фили-Давыдково\n",
      "район Филёвский Парк\n",
      "район Царицыно\n",
      "район Щукино\n"
     ]
    }
   ],
   "source": [
    "# вывести в консоль список районов, в которых метрополитен имеет выходы к станциям МЦД (см. MCDStation)\n",
    "district = set()\n",
    "\n",
    "for station in d:\n",
    "    if type(station[\"MCDStation\"]) is dict:\n",
    "        district.add(station[\"District\"])\n",
    "\n",
    "for i in sorted(list(district)):\n",
    "    print(i)"
   ]
  },
  {
   "cell_type": "code",
   "execution_count": 9,
   "metadata": {},
   "outputs": [
    {
     "name": "stdout",
     "output_type": "stream",
     "text": [
      "Калининская линия: 8\n",
      "Калужско-Рижская линия: 24\n",
      "Арбатско-Покровская линия: 22\n",
      "Большая кольцевая линия: 31\n",
      "Бутовская линия Лёгкого метро: 7\n",
      "Замоскворецкая линия: 24\n",
      "Люблинско-Дмитровская линия: 24\n",
      "Солнцевская линия: 16\n",
      "Серпуховско-Тимирязевская линия: 25\n",
      "Московская монорельсовая транспортная система: 6\n",
      "Таганско-Краснопресненская линия: 23\n",
      "Некрасовская линия: 8\n",
      "Сокольническая линия: 26\n",
      "Кольцевая линия: 13\n",
      "Филёвская линия: 13\n",
      "Московское центральное кольцо: 31\n"
     ]
    }
   ],
   "source": [
    "# вывести в консоль список веток метрополитена и количеством станций на каждой ветке\n",
    "line_count = dict()\n",
    "\n",
    "for station in d:\n",
    "    line_count[station[\"Line\"]] = line_count.get(station[\"Line\"], 0) + 1\n",
    "\n",
    "for index, value in line_count.items():\n",
    "    print(f\"{index}: {value}\")"
   ]
  },
  {
   "cell_type": "code",
   "execution_count": 15,
   "metadata": {},
   "outputs": [
    {
     "name": "stdout",
     "output_type": "stream",
     "text": [
      "Восточный административный округ: 25\n",
      "Западный административный округ: 38\n",
      "Новомосковский административный округ: 6\n",
      "Северный административный округ: 26\n",
      "Северо-Восточный административный округ: 25\n",
      "Северо-Западный административный округ: 16\n",
      "Центральный административный округ: 79\n",
      "Юго-Восточный административный округ: 31\n",
      "Юго-Западный административный округ: 24\n",
      "Южный административный округ: 31\n"
     ]
    }
   ],
   "source": [
    "# вывести в консоль список административных округов в алфавитном порядке и количеством станций\n",
    "admarea_count = dict()\n",
    "\n",
    "for station in d:\n",
    "    admarea_count[station[\"AdmArea\"]] = admarea_count.get(station[\"AdmArea\"], 0) + 1\n",
    "\n",
    "for i in sorted(admarea_count.items(), key=lambda para: para[0]):\n",
    "    print(f\"{i[0]}: {i[1]}\")"
   ]
  },
  {
   "cell_type": "code",
   "execution_count": null,
   "metadata": {},
   "outputs": [],
   "source": [
    "#  вывести в консоль список станций в порядке убывания количества символов в названии станции\n",
    "stations = dict()\n",
    "\n",
    "for station in d:\n",
    "    stations[station[\"Station\"]] = len(station[\"Station\"])\n",
    "\n",
    "for i in sorted(stations.items(), key=lambda para: para[1], reverse=True):\n",
    "    print(i[0])"
   ]
  },
  {
   "cell_type": "code",
   "execution_count": null,
   "metadata": {},
   "outputs": [],
   "source": [
    "# вывести в консоль список количество символов по возрастанию и количеством станций указанной длины\n",
    "stations_len = dict()\n",
    "count_letters = dict()\n",
    "\n",
    "for station in d:\n",
    "    stations_len[station[\"Station\"]] = len(station[\"Station\"])\n",
    "\n",
    "for index, value in stations_len.items():\n",
    "    count_letters[value] = count_letters.get(value, 0) + 1\n",
    "\n",
    "for i in sorted(count_letters.items(), key=lambda para: para[0]):\n",
    "    print(f\"{i[0]}: {i[1]}\")"
   ]
  },
  {
   "cell_type": "code",
   "execution_count": null,
   "metadata": {},
   "outputs": [],
   "source": [
    "# вывести в консоль список букв русского алфавита в алфавитном порядке и количеством станций, начинающихся на каждую букву\n",
    "alp = \"абвгдеёжзийклмнопрстуфхцчшщъыьэюя\"\n",
    "alp_dict = dict()\n",
    "\n",
    "for i in alp:\n",
    "    alp_dict[i] = 0\n",
    "\n",
    "for station in d:\n",
    "    alp_dict[station[\"Station\"][0].lower()] += 1\n",
    "\n",
    "for index, value in alp_dict.items():\n",
    "    print(f\"{index}: {value}\")"
   ]
  },
  {
   "cell_type": "code",
   "execution_count": null,
   "metadata": {},
   "outputs": [],
   "source": [
    "# создать json-файл, где будут храниться все станции метро, в названии которых одно слово (т.е. нет пробелов)\n",
    "stations = list()\n",
    "\n",
    "for station in d:\n",
    "    if \" \" not in station[\"Station\"]:\n",
    "        stations.append(station)\n",
    "\n",
    "stations_json = json.dumps(stations, ensure_ascii=False)\n",
    "\n",
    "with open(\"temp/stations_one_word.json\", \"w\") as f:\n",
    "    f.write(stations_json)"
   ]
  },
  {
   "cell_type": "code",
   "execution_count": null,
   "metadata": {},
   "outputs": [],
   "source": [
    "# создать json-файл, где будут храниться только названия станций, линий и статусы станций\n",
    "stations = list()\n",
    "\n",
    "for station in d:\n",
    "    stations.append({\"Station\" : station[\"Station\"], \"Line\" : station[\"Line\"], \"ObjectStatus\" : station[\"ObjectStatus\"]})\n",
    "\n",
    "stations_json = json.dumps(stations, ensure_ascii=False)\n",
    "\n",
    "with open(\"temp/mosmetro_edited.json\", \"w\") as f:\n",
    "    f.write(stations_json)"
   ]
  },
  {
   "cell_type": "code",
   "execution_count": null,
   "metadata": {},
   "outputs": [],
   "source": [
    "# создать N json-файлов с данными по каждой ветке метро (например, \"temp\\Калининская линия.json\"), в котором будет отсутствовать столбец ветка ('Line')\n",
    "stations = list()\n",
    "lines = set()\n",
    "\n",
    "for station in d:\n",
    "    stations.append(station)\n",
    "    lines.add(station[\"Line\"])\n",
    "\n",
    "for line in lines:\n",
    "    mas = list()\n",
    "\n",
    "    for station in stations:\n",
    "        if \"Line\" in station:\n",
    "            if station[\"Line\"] == line:\n",
    "                mas.append(station)\n",
    "\n",
    "    for station in mas:\n",
    "        del station[\"Line\"]\n",
    "\n",
    "    mas_json = json.dumps(mas, ensure_ascii=False)\n",
    "\n",
    "    with open(f\"temp/{line}.json\", \"w\") as f:\n",
    "        f.write(mas_json)"
   ]
  }
 ],
 "metadata": {
  "kernelspec": {
   "display_name": "Python 3",
   "language": "python",
   "name": "python3"
  },
  "language_info": {
   "codemirror_mode": {
    "name": "ipython",
    "version": 3
   },
   "file_extension": ".py",
   "mimetype": "text/x-python",
   "name": "python",
   "nbconvert_exporter": "python",
   "pygments_lexer": "ipython3",
   "version": "3.9.13"
  }
 },
 "nbformat": 4,
 "nbformat_minor": 2
}
