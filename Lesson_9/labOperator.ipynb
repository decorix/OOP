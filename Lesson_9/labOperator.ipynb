{
 "cells": [
  {
   "cell_type": "code",
   "execution_count": 2,
   "metadata": {},
   "outputs": [
    {
     "name": "stdout",
     "output_type": "stream",
     "text": [
      "['Саша', 'Женя', 'Андрей']\n",
      "[20, 15, 31]\n"
     ]
    }
   ],
   "source": [
    "import operator\n",
    "\n",
    "class Person:\n",
    "    def __init__(self, name, age):\n",
    "        self.name = name\n",
    "        self.age = age\n",
    "\n",
    "people = [\n",
    "    Person(\"Саша\", 20),\n",
    "    Person(\"Женя\", 15),\n",
    "    Person(\"Андрей\", 31)\n",
    "]\n",
    "\n",
    "get_name = operator.attrgetter(\"name\")\n",
    "get_age = operator.attrgetter(\"age\")\n",
    "\n",
    "names = list(map(get_name, people))\n",
    "ages = list(map(get_age, people))\n",
    "\n",
    "print(names)\n",
    "print(ages)"
   ]
  },
  {
   "cell_type": "code",
   "execution_count": 3,
   "metadata": {},
   "outputs": [
    {
     "name": "stdout",
     "output_type": "stream",
     "text": [
      "['банак', 'яблоко', 'киви']\n",
      "[5, 10, 3]\n"
     ]
    }
   ],
   "source": [
    "import operator\n",
    "\n",
    "fruits = [(\"банак\", 5), (\"яблоко\", 10), (\"киви\", 3)]\n",
    "\n",
    "get_fruit = operator.itemgetter(0)\n",
    "get_quantity = operator.itemgetter(1)\n",
    "\n",
    "fruit_names = list(map(get_fruit, fruits))\n",
    "quantities = list(map(get_quantity, fruits))\n",
    "\n",
    "print(fruit_names)\n",
    "print(quantities)"
   ]
  },
  {
   "cell_type": "code",
   "execution_count": 6,
   "metadata": {},
   "outputs": [
    {
     "name": "stdout",
     "output_type": "stream",
     "text": [
      "Привет, мне 20 лет\n"
     ]
    }
   ],
   "source": [
    "import operator\n",
    "\n",
    "class Person:\n",
    "    def __init__(self, age):\n",
    "        self.name = age\n",
    "    \n",
    "    def say_age(self):\n",
    "        print(f\"Привет, мне {self.name} лет\")\n",
    "\n",
    "person = Person(20)\n",
    "\n",
    "call_say_hello = operator.methodcaller(\"say_age\")\n",
    "\n",
    "call_say_hello(person)"
   ]
  },
  {
   "cell_type": "code",
   "execution_count": null,
   "metadata": {},
   "outputs": [],
   "source": []
  }
 ],
 "metadata": {
  "kernelspec": {
   "display_name": "Python 3",
   "language": "python",
   "name": "python3"
  },
  "language_info": {
   "codemirror_mode": {
    "name": "ipython",
    "version": 3
   },
   "file_extension": ".py",
   "mimetype": "text/x-python",
   "name": "python",
   "nbconvert_exporter": "python",
   "pygments_lexer": "ipython3",
   "version": "3.9.7"
  }
 },
 "nbformat": 4,
 "nbformat_minor": 2
}
