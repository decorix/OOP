{
 "cells": [
  {
   "cell_type": "code",
   "execution_count": 1,
   "metadata": {},
   "outputs": [
    {
     "name": "stdout",
     "output_type": "stream",
     "text": [
      "['John', 'Jane', 'James']\n",
      "[30, 25, 40]\n"
     ]
    }
   ],
   "source": [
    "import operator\n",
    "\n",
    "class Person:\n",
    "    def __init__(self, name, age):\n",
    "        self.name = name\n",
    "        self.age = age\n",
    "\n",
    "people = [\n",
    "    Person(\"John\", 30),\n",
    "    Person(\"Jane\", 25),\n",
    "    Person(\"James\", 40)\n",
    "]\n",
    "\n",
    "get_name = operator.attrgetter(\"name\")\n",
    "get_age = operator.attrgetter(\"age\")\n",
    "\n",
    "names = list(map(get_name, people))\n",
    "ages = list(map(get_age, people))\n",
    "\n",
    "print(names)\n",
    "print(ages)"
   ]
  },
  {
   "cell_type": "code",
   "execution_count": null,
   "metadata": {},
   "outputs": [],
   "source": [
    "import operator\n",
    "\n",
    "fruits = [(\"apple\", 5), (\"banana\", 10), (\"orange\", 3)]\n",
    "\n",
    "get_fruit = operator.itemgetter(0)\n",
    "get_quantity = operator.itemgetter(1)\n",
    "\n",
    "fruit_names = list(map(get_fruit, fruits))\n",
    "quantities = list(map(get_quantity, fruits))\n",
    "\n",
    "print(fruit_names)\n",
    "print(quantities)"
   ]
  },
  {
   "cell_type": "code",
   "execution_count": null,
   "metadata": {},
   "outputs": [],
   "source": [
    "import operator\n",
    "\n",
    "class Person:\n",
    "    def __init__(self, name):\n",
    "        self.name = name\n",
    "    \n",
    "    def say_hello(self):\n",
    "        print(f\"Hello, my name is {self.name}\")\n",
    "\n",
    "person = Person(\"John\")\n",
    "\n",
    "call_say_hello = operator.methodcaller(\"say_hello\")\n",
    "\n",
    "call_say_hello(person)"
   ]
  },
  {
   "cell_type": "code",
   "execution_count": null,
   "metadata": {},
   "outputs": [],
   "source": [
    "import operator\n",
    "\n",
    "def foo(a, b):\n",
    "    return a + b\n",
    "\n",
    "call_function = operator.call\n",
    "\n",
    "result = call_function(foo, 10, 5)\n",
    "\n",
    "print(result)"
   ]
  },
  {
   "cell_type": "code",
   "execution_count": null,
   "metadata": {},
   "outputs": [],
   "source": []
  }
 ],
 "metadata": {
  "kernelspec": {
   "display_name": "Python 3",
   "language": "python",
   "name": "python3"
  },
  "language_info": {
   "codemirror_mode": {
    "name": "ipython",
    "version": 3
   },
   "file_extension": ".py",
   "mimetype": "text/x-python",
   "name": "python",
   "nbconvert_exporter": "python",
   "pygments_lexer": "ipython3",
   "version": "3.9.7"
  }
 },
 "nbformat": 4,
 "nbformat_minor": 2
}
