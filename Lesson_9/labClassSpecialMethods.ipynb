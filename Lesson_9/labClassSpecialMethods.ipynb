{
 "cells": [
  {
   "cell_type": "code",
   "execution_count": 8,
   "metadata": {},
   "outputs": [
    {
     "name": "stdout",
     "output_type": "stream",
     "text": [
      "b'hello'\n"
     ]
    }
   ],
   "source": [
    "#Метод __bytes__ возвращает объект в виде последовательности байтов.\n",
    "\n",
    "\n",
    "class MyClass:\n",
    "    def __init__(self, value):\n",
    "        self.value = value\n",
    "\n",
    "    def __bytes__(self):\n",
    "        return bytes(self.value, 'utf-8')\n",
    "\n",
    "obj = MyClass(\"hello\")\n",
    "print(bytes(obj))  # b'hello'"
   ]
  },
  {
   "cell_type": "code",
   "execution_count": 4,
   "metadata": {},
   "outputs": [
    {
     "name": "stdout",
     "output_type": "stream",
     "text": [
      "Coordinates: (3, 4)\n",
      "Reversed Coordinates: (4, 3)\n",
      "Pretty Coordinates: (3, 4)\n"
     ]
    }
   ],
   "source": [
    "# Метод __format__ определяет поведение объекта при использовании его в форматированной строке.\n",
    "\n",
    "\n",
    "class Point:\n",
    "    def __init__(self, x, y):\n",
    "        self.x = x\n",
    "        self.y = y\n",
    "\n",
    "    def __format__(self, format_spec):\n",
    "        if format_spec == 'r':\n",
    "            return f\"({self.y}, {self.x})\"\n",
    "        elif format_spec == 'p':\n",
    "            return f\"({self.x}, {self.y})\"\n",
    "        else:\n",
    "            return f\"({self.x}, {self.y})\"\n",
    "\n",
    "point = Point(3, 4)\n",
    "print(\"Coordinates:\", format(point))  # (3, 4)\n",
    "print(\"Reversed Coordinates:\", format(point, \"r\"))  # (4, 3)\n",
    "print(\"Pretty Coordinates:\", format(point, \"p\"))  # (3, 4)\n"
   ]
  },
  {
   "cell_type": "code",
   "execution_count": 10,
   "metadata": {},
   "outputs": [
    {
     "name": "stdout",
     "output_type": "stream",
     "text": [
      "(4, 6)\n",
      "(-2, -2)\n",
      "(2, 4)\n"
     ]
    }
   ],
   "source": [
    "# Методы обычных арифметических операторов\n",
    "\n",
    "class Vector:\n",
    "    def __init__(self, x, y):\n",
    "        self.x = x\n",
    "        self.y = y\n",
    "\n",
    "    def __add__(self, other):\n",
    "        return Vector(self.x + other.x, self.y + other.y)\n",
    "\n",
    "    def __sub__(self, other):\n",
    "        return Vector(self.x - other.x, self.y - other.y)\n",
    "\n",
    "    def __mul__(self, scalar):\n",
    "        return Vector(self.x * scalar, self.y * scalar)\n",
    "\n",
    "    def __str__(self):\n",
    "        return f\"({self.x}, {self.y})\"\n",
    "\n",
    "v1 = Vector(1, 2)\n",
    "v2 = Vector(3, 4)\n",
    "\n",
    "print(v1 + v2)  # (4, 6)\n",
    "print(v1 - v2)  # (-2, -2)\n",
    "print(v1 * 2)  # (2, 4)\n",
    "\n"
   ]
  },
  {
   "cell_type": "code",
   "execution_count": 5,
   "metadata": {},
   "outputs": [
    {
     "ename": "TypeError",
     "evalue": "unsupported operand type(s) for +: 'Vector' and 'int'",
     "output_type": "error",
     "traceback": [
      "\u001b[1;31m---------------------------------------------------------------------------\u001b[0m",
      "\u001b[1;31mTypeError\u001b[0m                                 Traceback (most recent call last)",
      "\u001b[1;32mc:\\Users\\User\\Desktop\\4sem\\OOP\\Lesson_9\\labClassSpecialMethods.ipynb Cell 4\u001b[0m line \u001b[0;36m2\n\u001b[0;32m     <a href='vscode-notebook-cell:/c%3A/Users/User/Desktop/4sem/OOP/Lesson_9/labClassSpecialMethods.ipynb#W2sZmlsZQ%3D%3D?line=19'>20</a>\u001b[0m v \u001b[39m=\u001b[39m Vector(\u001b[39m1\u001b[39m, \u001b[39m2\u001b[39m)\n\u001b[0;32m     <a href='vscode-notebook-cell:/c%3A/Users/User/Desktop/4sem/OOP/Lesson_9/labClassSpecialMethods.ipynb#W2sZmlsZQ%3D%3D?line=20'>21</a>\u001b[0m scalar \u001b[39m=\u001b[39m \u001b[39m2\u001b[39m\n\u001b[1;32m---> <a href='vscode-notebook-cell:/c%3A/Users/User/Desktop/4sem/OOP/Lesson_9/labClassSpecialMethods.ipynb#W2sZmlsZQ%3D%3D?line=22'>23</a>\u001b[0m \u001b[39mprint\u001b[39m(v \u001b[39m+\u001b[39;49m scalar)  \u001b[39m# (3, 4)\u001b[39;00m\n\u001b[0;32m     <a href='vscode-notebook-cell:/c%3A/Users/User/Desktop/4sem/OOP/Lesson_9/labClassSpecialMethods.ipynb#W2sZmlsZQ%3D%3D?line=23'>24</a>\u001b[0m \u001b[39mprint\u001b[39m(scalar \u001b[39m-\u001b[39m v)  \u001b[39m# (1, 0)\u001b[39;00m\n\u001b[0;32m     <a href='vscode-notebook-cell:/c%3A/Users/User/Desktop/4sem/OOP/Lesson_9/labClassSpecialMethods.ipynb#W2sZmlsZQ%3D%3D?line=24'>25</a>\u001b[0m \u001b[39mprint\u001b[39m(v \u001b[39m*\u001b[39m scalar)  \u001b[39m# (2, 4)\u001b[39;00m\n",
      "\u001b[1;31mTypeError\u001b[0m: unsupported operand type(s) for +: 'Vector' and 'int'"
     ]
    }
   ],
   "source": [
    "# Методы отраженных арифметических операторов\n",
    "\n",
    "class Vector:\n",
    "    def __init__(self, x, y):\n",
    "        self.x = x\n",
    "        self.y = y\n",
    "\n",
    "    def __radd__(self, other):\n",
    "        return self + other\n",
    "\n",
    "    def __rsub__(self, other):\n",
    "        return Vector(other.x - self.x, other.y - self.y)\n",
    "\n",
    "    def __rmul__(self, scalar):\n",
    "        return self * scalar\n",
    "\n",
    "    def __str__(self):\n",
    "        return f\"({self.x}, {self.y})\"\n",
    "\n",
    "v = Vector(1, 2)\n",
    "scalar = 2\n",
    "\n",
    "print(v + scalar)  # (3, 4)\n",
    "print(scalar - v)  # (1, 0)\n",
    "print(v * scalar)  # (2, 4)\n"
   ]
  },
  {
   "cell_type": "code",
   "execution_count": 6,
   "metadata": {},
   "outputs": [
    {
     "name": "stdout",
     "output_type": "stream",
     "text": [
      "(4, 6)\n",
      "(1, 2)\n"
     ]
    }
   ],
   "source": [
    "# Методы составного присваивания\n",
    "\n",
    "class Vector:\n",
    "    def __init__(self, x, y):\n",
    "        self.x = x\n",
    "        self.y = y\n",
    "\n",
    "    def __iadd__(self, other):\n",
    "        self.x += other.x\n",
    "        self.y += other.y\n",
    "        return self\n",
    "\n",
    "    def __isub__(self, other):\n",
    "        self.x -= other.x\n",
    "        self.y -= other.y\n",
    "        return self\n",
    "\n",
    "    def __imul__(self, scalar):\n",
    "        self.x *= scalar\n",
    "        self.y *= scalar\n",
    "        return self\n",
    "\n",
    "    def __str__(self):\n",
    "        return f\"({self.x}, {self.y})\"\n",
    "\n",
    "v1 = Vector(1, 2)\n",
    "v2 = Vector(3, 4)\n",
    "\n",
    "v1 += v2\n",
    "print(v1)  # (4, 6)\n",
    "\n",
    "v1 -= v2\n",
    "print(v1)  #\n"
   ]
  }
 ],
 "metadata": {
  "kernelspec": {
   "display_name": "Python 3",
   "language": "python",
   "name": "python3"
  },
  "language_info": {
   "codemirror_mode": {
    "name": "ipython",
    "version": 3
   },
   "file_extension": ".py",
   "mimetype": "text/x-python",
   "name": "python",
   "nbconvert_exporter": "python",
   "pygments_lexer": "ipython3",
   "version": "3.9.7"
  }
 },
 "nbformat": 4,
 "nbformat_minor": 2
}
