{
 "cells": [
  {
   "cell_type": "code",
   "execution_count": 14,
   "metadata": {},
   "outputs": [],
   "source": [
    "from PIL import Image, ImageDraw, ImageFont, ImageFilter\n",
    "\n",
    "# Открываем изображение\n",
    "image = Image.open('fon.png')\n",
    "\n",
    "# Применяем фильтры изображения\n",
    "blur_image = image.filter(ImageFilter.BoxBlur(6))\n",
    "gray_image = image.convert('L')\n",
    "\n",
    "# Рисуем прямоугольник\n",
    "draw = ImageDraw.Draw(image)\n",
    "draw.rectangle([(50, 50), (400, 400)], outline='red', width=4)\n",
    "\n",
    "# Рисуем текст\n",
    "font = ImageFont.truetype('arial.ttf', size=40)\n",
    "draw.text((110, 200), 'Hello, World!', fill='RED', font=font)\n",
    "\n",
    "# Сохраняем измененные изображения\n",
    "blur_image.save('blur.jpg')\n",
    "gray_image.save('gray.jpg')\n",
    "image.save('output.jpg')"
   ]
  }
 ],
 "metadata": {
  "kernelspec": {
   "display_name": "Python 3",
   "language": "python",
   "name": "python3"
  },
  "language_info": {
   "codemirror_mode": {
    "name": "ipython",
    "version": 3
   },
   "file_extension": ".py",
   "mimetype": "text/x-python",
   "name": "python",
   "nbconvert_exporter": "python",
   "pygments_lexer": "ipython3",
   "version": "3.9.7"
  }
 },
 "nbformat": 4,
 "nbformat_minor": 2
}
