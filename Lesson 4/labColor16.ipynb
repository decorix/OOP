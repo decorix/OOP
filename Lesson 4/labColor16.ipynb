{
 "cells": [
  {
   "cell_type": "code",
   "execution_count": 2,
   "metadata": {},
   "outputs": [
    {
     "name": "stdout",
     "output_type": "stream",
     "text": [
      "\u001b[0;30;m30\u001b[0m \u001b[0;31;m31\u001b[0m \u001b[0;32;m32\u001b[0m \u001b[0;33;m33\u001b[0m \u001b[0;34;m34\u001b[0m \u001b[0;35;m35\u001b[0m \u001b[0;36;m36\u001b[0m \u001b[0;37;m37\u001b[0m \n",
      "\u001b[0;30;40m30:40\u001b[0m \u001b[0;30;41m30:41\u001b[0m \u001b[0;30;42m30:42\u001b[0m \u001b[0;30;43m30:43\u001b[0m \u001b[0;30;44m30:44\u001b[0m \u001b[0;30;45m30:45\u001b[0m \u001b[0;30;46m30:46\u001b[0m \u001b[0;30;47m30:47\u001b[0m \n",
      "\u001b[0;31;40m31:40\u001b[0m \u001b[0;31;41m31:41\u001b[0m \u001b[0;31;42m31:42\u001b[0m \u001b[0;31;43m31:43\u001b[0m \u001b[0;31;44m31:44\u001b[0m \u001b[0;31;45m31:45\u001b[0m \u001b[0;31;46m31:46\u001b[0m \u001b[0;31;47m31:47\u001b[0m \n",
      "\u001b[0;32;40m32:40\u001b[0m \u001b[0;32;41m32:41\u001b[0m \u001b[0;32;42m32:42\u001b[0m \u001b[0;32;43m32:43\u001b[0m \u001b[0;32;44m32:44\u001b[0m \u001b[0;32;45m32:45\u001b[0m \u001b[0;32;46m32:46\u001b[0m \u001b[0;32;47m32:47\u001b[0m \n",
      "\u001b[0;33;40m33:40\u001b[0m \u001b[0;33;41m33:41\u001b[0m \u001b[0;33;42m33:42\u001b[0m \u001b[0;33;43m33:43\u001b[0m \u001b[0;33;44m33:44\u001b[0m \u001b[0;33;45m33:45\u001b[0m \u001b[0;33;46m33:46\u001b[0m \u001b[0;33;47m33:47\u001b[0m \n",
      "\u001b[0;34;40m34:40\u001b[0m \u001b[0;34;41m34:41\u001b[0m \u001b[0;34;42m34:42\u001b[0m \u001b[0;34;43m34:43\u001b[0m \u001b[0;34;44m34:44\u001b[0m \u001b[0;34;45m34:45\u001b[0m \u001b[0;34;46m34:46\u001b[0m \u001b[0;34;47m34:47\u001b[0m \n",
      "\u001b[0;35;40m35:40\u001b[0m \u001b[0;35;41m35:41\u001b[0m \u001b[0;35;42m35:42\u001b[0m \u001b[0;35;43m35:43\u001b[0m \u001b[0;35;44m35:44\u001b[0m \u001b[0;35;45m35:45\u001b[0m \u001b[0;35;46m35:46\u001b[0m \u001b[0;35;47m35:47\u001b[0m \n",
      "\u001b[0;36;40m36:40\u001b[0m \u001b[0;36;41m36:41\u001b[0m \u001b[0;36;42m36:42\u001b[0m \u001b[0;36;43m36:43\u001b[0m \u001b[0;36;44m36:44\u001b[0m \u001b[0;36;45m36:45\u001b[0m \u001b[0;36;46m36:46\u001b[0m \u001b[0;36;47m36:47\u001b[0m \n",
      "\u001b[0;37;40m37:40\u001b[0m \u001b[0;37;41m37:41\u001b[0m \u001b[0;37;42m37:42\u001b[0m \u001b[0;37;43m37:43\u001b[0m \u001b[0;37;44m37:44\u001b[0m \u001b[0;37;45m37:45\u001b[0m \u001b[0;37;46m37:46\u001b[0m \u001b[0;37;47m37:47\u001b[0m \n",
      "\u001b[0;30;m30\u001b[0m \u001b[0;31;m31\u001b[0m \u001b[0;32;m32\u001b[0m \u001b[0;33;m33\u001b[0m \u001b[0;34;m34\u001b[0m \u001b[0;35;m35\u001b[0m \u001b[0;36;m36\u001b[0m \u001b[0;37;m37\u001b[0m \n"
     ]
    }
   ],
   "source": [
    "def color():\n",
    "    for i in range(8):\n",
    "        print(f\"\\033[0;{30 + i};m{30 + i}\\033[0m\", end=\" \")\n",
    "    print()\n",
    "\n",
    "def background_color():\n",
    "    color()\n",
    "    for i in range(8):\n",
    "        for j in range(8):\n",
    "            print(f\"\\033[0;{30 + i};{40 + j}m{30 + i}:{40 + j}\\033[0m\", end=\" \")\n",
    "        print()\n",
    "    color()\n",
    "\n",
    "background_color()"
   ]
  }
 ],
 "metadata": {
  "kernelspec": {
   "display_name": "Python 3",
   "language": "python",
   "name": "python3"
  },
  "language_info": {
   "codemirror_mode": {
    "name": "ipython",
    "version": 3
   },
   "file_extension": ".py",
   "mimetype": "text/x-python",
   "name": "python",
   "nbconvert_exporter": "python",
   "pygments_lexer": "ipython3",
   "version": "3.9.13"
  }
 },
 "nbformat": 4,
 "nbformat_minor": 2
}
