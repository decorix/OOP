{
 "cells": [
  {
   "cell_type": "code",
   "execution_count": 1,
   "metadata": {},
   "outputs": [],
   "source": [
    "import random\n"
   ]
  },
  {
   "cell_type": "code",
   "execution_count": 2,
   "metadata": {},
   "outputs": [],
   "source": [
    "def getIPv4(min=(1,0,0,0), max=(255,255,255,255)):\n",
    "    # генерируем четыре случайных числа от min до max\n",
    "    numbers = [str(random.randint(min[i], max[i])) for i in range(4)]\n",
    "    # объединяем в одну строку через точку\n",
    "    return \".\".join(numbers)"
   ]
  },
  {
   "cell_type": "code",
   "execution_count": 3,
   "metadata": {},
   "outputs": [
    {
     "name": "stdout",
     "output_type": "stream",
     "text": [
      "188.50.102.237\n",
      "220.218.33.159\n",
      "192.168.183.80\n"
     ]
    }
   ],
   "source": [
    "print(getIPv4())                 # 104.119.162.55\n",
    "print(getIPv4(min=(192,168,0,0)))  # 192.168.11.87\n",
    "print(getIPv4(min=(192,168,0,0), max=(192,168,255,255)))  # 192.168.102.214"
   ]
  }
 ],
 "metadata": {
  "kernelspec": {
   "display_name": "Python 3",
   "language": "python",
   "name": "python3"
  },
  "language_info": {
   "codemirror_mode": {
    "name": "ipython",
    "version": 3
   },
   "file_extension": ".py",
   "mimetype": "text/x-python",
   "name": "python",
   "nbconvert_exporter": "python",
   "pygments_lexer": "ipython3",
   "version": "3.9.13"
  }
 },
 "nbformat": 4,
 "nbformat_minor": 2
}
