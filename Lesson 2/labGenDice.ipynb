{
 "cells": [
  {
   "cell_type": "code",
   "execution_count": 1,
   "metadata": {},
   "outputs": [],
   "source": [
    "import random"
   ]
  },
  {
   "cell_type": "code",
   "execution_count": 2,
   "metadata": {},
   "outputs": [],
   "source": [
    "def genDice(countDice = 1, countFace = 6, value_on_face = (1,2,3,4,5,6)) -> tuple:\n",
    "    if (countFace == len(value_on_face)):\n",
    "        all_dice = []\n",
    "        for i in range(countDice):\n",
    "            all_dice.append(random.choice(value_on_face))\n",
    "        return tuple(all_dice)\n",
    "    else:\n",
    "        print(\"Количество граней должно совпадать с количеством значений на гранях\")\n",
    "        return tuple()"
   ]
  },
  {
   "cell_type": "code",
   "execution_count": 3,
   "metadata": {},
   "outputs": [
    {
     "name": "stdout",
     "output_type": "stream",
     "text": [
      "(4,)\n",
      "(2, 6, 2)\n",
      "(3, 4, 2)\n"
     ]
    }
   ],
   "source": [
    "print(genDice())\n",
    "print(genDice(3))\n",
    "print(genDice(3,5,(1,2,3,4,5)))"
   ]
  }
 ],
 "metadata": {
  "kernelspec": {
   "display_name": "Python 3",
   "language": "python",
   "name": "python3"
  },
  "language_info": {
   "codemirror_mode": {
    "name": "ipython",
    "version": 3
   },
   "file_extension": ".py",
   "mimetype": "text/x-python",
   "name": "python",
   "nbconvert_exporter": "python",
   "pygments_lexer": "ipython3",
   "version": "3.9.13"
  }
 },
 "nbformat": 4,
 "nbformat_minor": 2
}
