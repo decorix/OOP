{
 "cells": [
  {
   "cell_type": "code",
   "execution_count": 2,
   "metadata": {},
   "outputs": [],
   "source": [
    "import xml.dom.minidom as minidom\n"
   ]
  },
  {
   "cell_type": "code",
   "execution_count": 5,
   "metadata": {},
   "outputs": [
    {
     "name": "stdout",
     "output_type": "stream",
     "text": [
      "Вывод значений элементов:\n",
      "Первый элемент\n",
      "Второй элемент\n",
      "\n",
      "Вывод атрибутов всех элементов:\n",
      "item1\n",
      "item2\n",
      "\n",
      "Вывод атрибута второго элемента:\n",
      "item2\n",
      "\n",
      "Item #2 data:\n",
      "Второй элемент\n",
      "Второй элемент\n"
     ]
    }
   ],
   "source": [
    "# обработка файла xml по имени\n",
    "mydoc = minidom.parse('items.xml')\n",
    "\n",
    "items = mydoc.getElementsByTagName('item')\n",
    "\n",
    "#данные всех элементов\n",
    "print('Вывод значений элементов:')\n",
    "for elem in items:\n",
    "    print(elem.firstChild.data)\n",
    "    \n",
    "#атрибуты всех элементов\n",
    "print('\\nВывод атрибутов всех элементов:')\n",
    "for atrib in items:\n",
    "    print(atrib.attributes['name'].value)\n",
    "\n",
    "#атрибут отдельного элемента\n",
    "print('\\nВывод атрибута второго элемента:')\n",
    "print(items[1].attributes['name'].value)\n",
    "\n",
    "\n",
    "\n",
    "#данные отдельного элемента\n",
    "print('\\nВывод значений второго элемента:')\n",
    "print(items[1].firstChild.data)\n",
    "print(items[1].childNodes[0].data)\n",
    "\n"
   ]
  },
  {
   "cell_type": "code",
   "execution_count": null,
   "metadata": {},
   "outputs": [],
   "source": []
  },
  {
   "cell_type": "code",
   "execution_count": null,
   "metadata": {},
   "outputs": [],
   "source": []
  }
 ],
 "metadata": {
  "kernelspec": {
   "display_name": "Python 3",
   "language": "python",
   "name": "python3"
  },
  "language_info": {
   "codemirror_mode": {
    "name": "ipython",
    "version": 3
   },
   "file_extension": ".py",
   "mimetype": "text/x-python",
   "name": "python",
   "nbconvert_exporter": "python",
   "pygments_lexer": "ipython3",
   "version": "3.9.7"
  }
 },
 "nbformat": 4,
 "nbformat_minor": 2
}
