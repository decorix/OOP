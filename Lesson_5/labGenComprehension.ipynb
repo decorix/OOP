{
 "cells": [
  {
   "cell_type": "code",
   "execution_count": 1,
   "metadata": {},
   "outputs": [],
   "source": [
    "string = \"Введите пароль для доступа к системе\""
   ]
  },
  {
   "cell_type": "code",
   "execution_count": 2,
   "metadata": {},
   "outputs": [
    {
     "name": "stdout",
     "output_type": "stream",
     "text": [
      "['Введите', 'пароль', 'для', 'доступа', 'к', 'системе']\n"
     ]
    }
   ],
   "source": [
    "#вернуть список слов\n",
    "print(string.split(\" \"))"
   ]
  },
  {
   "cell_type": "code",
   "execution_count": 3,
   "metadata": {},
   "outputs": [
    {
     "name": "stdout",
     "output_type": "stream",
     "text": [
      "['Введите [7]', 'пароль [6]', 'для [3]', 'доступа [7]', 'к [1]', 'системе [7]']\n"
     ]
    }
   ],
   "source": [
    "# вернуть список слов и рядом с каждым словом его длину в []\n",
    "mas = string.split(\" \")\n",
    "for i in range(len(mas)):\n",
    "    mas[i] = mas[i] + f\" [{len(mas[i])}]\"\n",
    "print(mas)"
   ]
  },
  {
   "cell_type": "code",
   "execution_count": 4,
   "metadata": {},
   "outputs": [
    {
     "name": "stdout",
     "output_type": "stream",
     "text": [
      "['Введите (1)', 'пароль (2)', 'для (3)', 'доступа (4)', 'к (5)', 'системе (6)']\n"
     ]
    }
   ],
   "source": [
    "# вернуть список слов и рядом с каждым словом его порядковый номер в ( ) в предложении\n",
    "mas = string.split(\" \")\n",
    "for i in range(len(mas)):\n",
    "    mas[i] = mas[i] + f\" ({i + 1})\"\n",
    "print(mas)"
   ]
  },
  {
   "cell_type": "code",
   "execution_count": 5,
   "metadata": {},
   "outputs": [
    {
     "name": "stdout",
     "output_type": "stream",
     "text": [
      "['вВЕДИТЕ', 'ПАРОЛЬ', 'ДЛЯ', 'ДОСТУПА', 'К', 'СИСТЕМЕ']\n"
     ]
    }
   ],
   "source": [
    "# в каждом слове поменять регистр символа на противоположный \n",
    "mas = string.split(\" \")\n",
    "for i in range(len(mas)):\n",
    "    mas[i] = mas[i].swapcase()\n",
    "print(mas)"
   ]
  },
  {
   "cell_type": "code",
   "execution_count": 6,
   "metadata": {},
   "outputs": [
    {
     "name": "stdout",
     "output_type": "stream",
     "text": [
      "['етидевВ', 'ьлорап', 'ялд', 'апутсод', 'к', 'еметсис']\n"
     ]
    }
   ],
   "source": [
    "# в каждом слове поменять буквы местами на противоположные\n",
    "mas = string.split(\" \")\n",
    "for i in range(len(mas)):\n",
    "    mas[i] = mas[i][::-1]\n",
    "print(mas)"
   ]
  },
  {
   "cell_type": "code",
   "execution_count": 7,
   "metadata": {},
   "outputs": [
    {
     "name": "stdout",
     "output_type": "stream",
     "text": [
      "['еивеВдт', 'рльапо', 'дял', 'топсуад', 'к', 'мтисеес']\n"
     ]
    }
   ],
   "source": [
    "# в каждом слове поменять буквы местами случайным образом\n",
    "import random\n",
    "\n",
    "mas = list()\n",
    "for i in map(list, string.split(\" \")):\n",
    "    random.shuffle(i)\n",
    "    mas.append(\"\".join(i))\n",
    "print(mas)"
   ]
  },
  {
   "cell_type": "code",
   "execution_count": 8,
   "metadata": {},
   "outputs": [
    {
     "name": "stdout",
     "output_type": "stream",
     "text": [
      "['_ведит_', '_арол_', '_л_', '_оступ_', '_', '_истем_']\n"
     ]
    }
   ],
   "source": [
    "# в каждлм слове первую и последнюю букву заменить на '_'\n",
    "mas = string.split(\" \")\n",
    "for i in range(len(mas)):\n",
    "    if len(mas[i]) > 1:\n",
    "        mas[i] = '_' + mas[i][1:-1] + '_'\n",
    "    else:\n",
    "        mas[i] = '_'\n",
    "print(mas)"
   ]
  },
  {
   "cell_type": "code",
   "execution_count": 9,
   "metadata": {},
   "outputs": [
    {
     "name": "stdout",
     "output_type": "stream",
     "text": [
      "['_______', '______', '___', '_______', '_', '_______']\n"
     ]
    }
   ],
   "source": [
    "# в кажом слове заменить каждую букву на '_'\n",
    "mas = string.split(\" \")\n",
    "for i in range(len(mas)):\n",
    "    mas[i] = \"_\" * len(mas[i])\n",
    "print(mas)"
   ]
  },
  {
   "cell_type": "code",
   "execution_count": 10,
   "metadata": {},
   "outputs": [
    {
     "name": "stdout",
     "output_type": "stream",
     "text": [
      "['Введите', 'пароль', '___', 'доступа', '_', 'системе']\n"
     ]
    }
   ],
   "source": [
    "# в кажом слове заменить каждую букву на '_', если длина слова меньше 5 символов\n",
    "mas = string.split(\" \")\n",
    "for i in range(len(mas)):\n",
    "    if len(mas[i]) < 5:\n",
    "        mas[i] = \"_\" * len(mas[i])\n",
    "print(mas)"
   ]
  },
  {
   "cell_type": "code",
   "execution_count": 11,
   "metadata": {},
   "outputs": [
    {
     "name": "stdout",
     "output_type": "stream",
     "text": [
      "['введитЕ', 'паролЬ', 'длЯ', 'доступА', 'К', 'системЕ']\n"
     ]
    }
   ],
   "source": [
    "# каждую последнюю букву в слове написать с большой букву\n",
    "mas = string.split(\" \")\n",
    "for i in range(len(mas)):\n",
    "    mas[i] = mas[i][::-1].title()[::-1]\n",
    "print(mas)"
   ]
  },
  {
   "cell_type": "code",
   "execution_count": 12,
   "metadata": {},
   "outputs": [
    {
     "name": "stdout",
     "output_type": "stream",
     "text": [
      "['введите', 'ПАРОЛЬ', 'для', 'ДОСТУПА', 'к', 'СИСТЕМЕ']\n"
     ]
    }
   ],
   "source": [
    "# каждое второе слово написать большими буквами, а остальные слова мальникими\n",
    "mas = string.split(\" \")\n",
    "for i in range(len(mas)):\n",
    "    if i % 2 != 0:\n",
    "        mas[i] = mas[i].upper()\n",
    "    else:\n",
    "        mas[i] = mas[i].lower()\n",
    "print(mas)"
   ]
  },
  {
   "cell_type": "code",
   "execution_count": 13,
   "metadata": {},
   "outputs": [
    {
     "name": "stdout",
     "output_type": "stream",
     "text": [
      "['Вв_д_т_', 'пар_ль', 'дл_', 'д_ст_па', 'к', 'с_ст_м_']\n"
     ]
    }
   ],
   "source": [
    "# заменить все глассные буквы на '_'\n",
    "mas = string.split(\" \")\n",
    "vowels = \"aуоыиэяюёе\"\n",
    "for i in range(len(mas)):\n",
    "    strock = \"\"\n",
    "    for j in mas[i]:\n",
    "        if j in vowels:\n",
    "            strock += \"_\"\n",
    "        else:\n",
    "            strock += j\n",
    "    mas[i] = strock\n",
    "print(mas) "
   ]
  },
  {
   "cell_type": "code",
   "execution_count": 14,
   "metadata": {},
   "outputs": [
    {
     "name": "stdout",
     "output_type": "stream",
     "text": [
      "['системе', 'к', 'доступа', 'для', 'Введите', 'пароль']\n"
     ]
    }
   ],
   "source": [
    "# поменять слова местами случайным образом\n",
    "import random\n",
    "mas = string.split(\" \")\n",
    "random.shuffle(mas)\n",
    "print(mas)"
   ]
  },
  {
   "cell_type": "code",
   "execution_count": 15,
   "metadata": {},
   "outputs": [
    {
     "name": "stdout",
     "output_type": "stream",
     "text": [
      "['Введите', 'доступа', 'системе', 'пароль', 'для', 'к']\n"
     ]
    }
   ],
   "source": [
    "# сформировать список слов, отсортированных по количеству букв в каждом слове\n",
    "mas = string.split(\" \")\n",
    "sorted_mas = sorted(mas, key=len, reverse=True)\n",
    "print(sorted_mas)"
   ]
  },
  {
   "cell_type": "code",
   "execution_count": 16,
   "metadata": {},
   "outputs": [
    {
     "name": "stdout",
     "output_type": "stream",
     "text": [
      "['к', 'а', 'д', 'т', 'о', 'я', 'м', 'л', 'ь', 'р', 'у', 'и', 'е', 'в', 'с', 'п']\n"
     ]
    }
   ],
   "source": [
    "# сформировать список уникальных букв\n",
    "unique = set(string.lower())\n",
    "unique.discard(\" \")\n",
    "print(list(unique))"
   ]
  },
  {
   "cell_type": "code",
   "execution_count": 17,
   "metadata": {},
   "outputs": [
    {
     "name": "stdout",
     "output_type": "stream",
     "text": [
      "к:1\n",
      "а:2\n",
      "д:3\n",
      "т:3\n",
      "о:2\n",
      "я:1\n",
      "м:1\n",
      "л:2\n",
      "ь:1\n",
      "р:1\n",
      "у:1\n",
      "и:2\n",
      "е:4\n",
      "в:2\n",
      "с:3\n",
      "п:2\n"
     ]
    }
   ],
   "source": [
    "# сформировать список уникальных букв и их количество\n",
    "mas = string.split(\" \")\n",
    "uniques = set(string.lower())\n",
    "uniques.discard(\" \")\n",
    "uniques_count = dict()\n",
    "\n",
    "for i in uniques:\n",
    "    uniques_count[i] = 0 \n",
    "\n",
    "for i in mas:\n",
    "    for j in i:\n",
    "        uniques_count[j.lower()] += 1\n",
    "\n",
    "for index, value in uniques_count.items():\n",
    "    print(f\"{index}:{value}\")"
   ]
  }
 ],
 "metadata": {
  "kernelspec": {
   "display_name": "Python 3",
   "language": "python",
   "name": "python3"
  },
  "language_info": {
   "codemirror_mode": {
    "name": "ipython",
    "version": 3
   },
   "file_extension": ".py",
   "mimetype": "text/x-python",
   "name": "python",
   "nbconvert_exporter": "python",
   "pygments_lexer": "ipython3",
   "version": "3.9.13"
  }
 },
 "nbformat": 4,
 "nbformat_minor": 2
}
